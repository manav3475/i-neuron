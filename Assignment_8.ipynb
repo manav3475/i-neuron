{
 "cells": [
  {
   "cell_type": "markdown",
   "metadata": {},
   "source": [
    "1. Is the Python Standard Library included with PyInputPlus?"
   ]
  },
  {
   "cell_type": "markdown",
   "metadata": {},
   "source": [
    "No,PyInputPlus Was not a part of Python Standard Library  "
   ]
  },
  {
   "cell_type": "markdown",
   "metadata": {},
   "source": [
    "2. Why is PyInputPlus commonly imported with import pyinputplus as pypi?"
   ]
  },
  {
   "cell_type": "markdown",
   "metadata": {},
   "source": [
    "PyInputPlus was the package name and was create the instance as pypi(object)\n",
    "using this we can access every method of PyInputPlus class.\n",
    "pypi it was just a name we can give name what every we want\n",
    "So that way we importing this package by upper name "
   ]
  },
  {
   "cell_type": "code",
   "execution_count": 1,
   "metadata": {},
   "outputs": [
    {
     "name": "stdout",
     "output_type": "stream",
     "text": [
      "5\n",
      "5\n"
     ]
    }
   ],
   "source": [
    "import pyinputplus as py\n",
    "print(py.inputStr())"
   ]
  },
  {
   "cell_type": "markdown",
   "metadata": {},
   "source": [
    "3.How do you distinguish between inputInt() and inputFloat()?"
   ]
  },
  {
   "cell_type": "markdown",
   "metadata": {},
   "source": [
    "the main diffrence of this two method is inputInt() method was return integer and \n",
    "inputFloat() was return that float value of number "
   ]
  },
  {
   "cell_type": "code",
   "execution_count": 2,
   "metadata": {},
   "outputs": [
    {
     "name": "stdout",
     "output_type": "stream",
     "text": [
      "5\n",
      "2\n",
      "5\n",
      "2.0\n"
     ]
    }
   ],
   "source": [
    "import pyinputplus as py \n",
    "number = py.inputInt()\n",
    "number_1 = py.inputFloat()\n",
    "print(number)\n",
    "print(number_1)"
   ]
  },
  {
   "cell_type": "markdown",
   "metadata": {},
   "source": [
    "4.Using PyInputPlus, how do you ensure that the user enters a whole number between 0 and 99?"
   ]
  },
  {
   "cell_type": "code",
   "execution_count": 3,
   "metadata": {},
   "outputs": [
    {
     "name": "stdout",
     "output_type": "stream",
     "text": [
      "Enter Number:--1\n",
      "Number must be at minimum 0.\n",
      "Enter Number:-101\n",
      "Number must be less than 99.\n",
      "Enter Number:-55\n",
      "55\n"
     ]
    }
   ],
   "source": [
    "import pyinputplus as py \n",
    "number = py.inputInt(prompt=\"Enter Number:-\",min=0,lessThan=99)\n",
    "print(number)"
   ]
  },
  {
   "cell_type": "markdown",
   "metadata": {},
   "source": [
    "5.What is transferred to the keyword arguments allowRegexes and blockRegexes?"
   ]
  },
  {
   "cell_type": "markdown",
   "metadata": {},
   "source": [
    "There was allowRexes that in fact, the behavior is that inputs for which the regex in allowRegexes matches will be valid in addition to those, that are already found valid by the respective function that is used.\n",
    "\n",
    "allowRegexes will override blockRegexes. So you can use that to your advantage by first blocking any input using the regex .* and then allowing only the input that you want:"
   ]
  },
  {
   "cell_type": "code",
   "execution_count": 5,
   "metadata": {},
   "outputs": [
    {
     "name": "stdout",
     "output_type": "stream",
     "text": [
      "Confirmation number = *^&&*\n",
      "This response is invalid.\n",
      "Confirmation number = 745236981\n"
     ]
    }
   ],
   "source": [
    "confirmation_number = py.inputStr(\n",
    "           prompt='Confirmation number = ',\n",
    "           blockRegexes=[r'.*'],\n",
    "           allowRegexes=[r'\\w{6}']\n",
    "        ).upper()"
   ]
  },
  {
   "cell_type": "markdown",
   "metadata": {},
   "source": [
    "6. If a blank input is entered three times, what does inputStr(limit=3) do?"
   ]
  },
  {
   "cell_type": "code",
   "execution_count": 6,
   "metadata": {},
   "outputs": [
    {
     "name": "stdout",
     "output_type": "stream",
     "text": [
      "Enter String= \n",
      "Blank values are not allowed.\n",
      "Enter String= \n",
      "Blank values are not allowed.\n",
      "Enter String= hello\n"
     ]
    }
   ],
   "source": [
    "import pyinputplus as pyip\n",
    "strtxt = pyip.inputStr(prompt='Enter String= ',limit=3)"
   ]
  },
  {
   "cell_type": "markdown",
   "metadata": {},
   "source": [
    "7. If blank input is entered three times, what does inputStr(limit=3, default='hello') do?"
   ]
  },
  {
   "cell_type": "code",
   "execution_count": 10,
   "metadata": {},
   "outputs": [
    {
     "name": "stdout",
     "output_type": "stream",
     "text": [
      "Enter string defalut\n",
      "Blank values are not allowed.\n",
      "Enter string defalut\n",
      "Blank values are not allowed.\n",
      "Enter string defalut\n",
      "Blank values are not allowed.\n",
      "hello\n"
     ]
    }
   ],
   "source": [
    "import pyinputplus as pyip\n",
    "strtxt = pyip.inputStr(prompt='Enter string defalut',limit=3,default='hello')\n",
    "print(strtxt)"
   ]
  }
 ],
 "metadata": {
  "kernelspec": {
   "display_name": "Python 3",
   "language": "python",
   "name": "python3"
  },
  "language_info": {
   "codemirror_mode": {
    "name": "ipython",
    "version": 3
   },
   "file_extension": ".py",
   "mimetype": "text/x-python",
   "name": "python",
   "nbconvert_exporter": "python",
   "pygments_lexer": "ipython3",
   "version": "3.8.5"
  }
 },
 "nbformat": 4,
 "nbformat_minor": 4
}
